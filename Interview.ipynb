{
 "cells": [
  {
   "cell_type": "markdown",
   "metadata": {},
   "source": [
    "## Install dependencies"
   ]
  },
  {
   "cell_type": "code",
   "execution_count": 1,
   "metadata": {},
   "outputs": [
    {
     "name": "stdout",
     "output_type": "stream",
     "text": [
      "Requirement already satisfied: matplotlib in /home/laika/anaconda3/lib/python3.7/site-packages (3.0.3)\n",
      "Requirement already satisfied: seaborn in /home/laika/anaconda3/lib/python3.7/site-packages (0.9.0)\n",
      "Requirement already satisfied: yfinance in /home/laika/anaconda3/lib/python3.7/site-packages (0.1.39)\n",
      "Requirement already satisfied: pandas_datareader in /home/laika/anaconda3/lib/python3.7/site-packages (0.7.0)\n",
      "Requirement already satisfied: xlrd in /home/laika/anaconda3/lib/python3.7/site-packages (1.2.0)\n",
      "Collecting datetime\n",
      "\u001b[?25l  Downloading https://files.pythonhosted.org/packages/73/22/a5297f3a1f92468cc737f8ce7ba6e5f245fcfafeae810ba37bd1039ea01c/DateTime-4.3-py2.py3-none-any.whl (60kB)\n",
      "\u001b[K    100% |████████████████████████████████| 61kB 422kB/s \n",
      "\u001b[?25hRequirement already satisfied: numpy>=1.10.0 in /home/laika/anaconda3/lib/python3.7/site-packages (from matplotlib) (1.16.2)\n",
      "Requirement already satisfied: cycler>=0.10 in /home/laika/anaconda3/lib/python3.7/site-packages (from matplotlib) (0.10.0)\n",
      "Requirement already satisfied: kiwisolver>=1.0.1 in /home/laika/anaconda3/lib/python3.7/site-packages (from matplotlib) (1.0.1)\n",
      "Requirement already satisfied: pyparsing!=2.0.4,!=2.1.2,!=2.1.6,>=2.0.1 in /home/laika/anaconda3/lib/python3.7/site-packages (from matplotlib) (2.3.1)\n",
      "Requirement already satisfied: python-dateutil>=2.1 in /home/laika/anaconda3/lib/python3.7/site-packages (from matplotlib) (2.8.0)\n",
      "Requirement already satisfied: pandas>=0.15.2 in /home/laika/anaconda3/lib/python3.7/site-packages (from seaborn) (0.24.2)\n",
      "Requirement already satisfied: scipy>=0.14.0 in /home/laika/anaconda3/lib/python3.7/site-packages (from seaborn) (1.2.1)\n",
      "Requirement already satisfied: multitasking>=0.0.7 in /home/laika/anaconda3/lib/python3.7/site-packages (from yfinance) (0.0.9)\n",
      "Requirement already satisfied: requests>=2.20 in /home/laika/anaconda3/lib/python3.7/site-packages (from yfinance) (2.21.0)\n",
      "Requirement already satisfied: lxml in /home/laika/anaconda3/lib/python3.7/site-packages (from pandas_datareader) (4.3.2)\n",
      "Requirement already satisfied: wrapt in /home/laika/anaconda3/lib/python3.7/site-packages (from pandas_datareader) (1.11.1)\n",
      "Collecting zope.interface (from datetime)\n",
      "\u001b[?25l  Downloading https://files.pythonhosted.org/packages/3a/b5/5cbafbe09bbfc242503b0cd9bcf9dee32458b3ca166f6a63cb7b4f465b60/zope.interface-4.6.0-cp37-cp37m-manylinux1_x86_64.whl (167kB)\n",
      "\u001b[K    100% |████████████████████████████████| 174kB 77kB/s \n",
      "\u001b[?25hRequirement already satisfied: pytz in /home/laika/anaconda3/lib/python3.7/site-packages (from datetime) (2018.9)\n",
      "Requirement already satisfied: six in /home/laika/anaconda3/lib/python3.7/site-packages (from cycler>=0.10->matplotlib) (1.12.0)\n",
      "Requirement already satisfied: setuptools in /home/laika/anaconda3/lib/python3.7/site-packages (from kiwisolver>=1.0.1->matplotlib) (40.8.0)\n",
      "Requirement already satisfied: urllib3<1.25,>=1.21.1 in /home/laika/anaconda3/lib/python3.7/site-packages (from requests>=2.20->yfinance) (1.24.1)\n",
      "Requirement already satisfied: certifi>=2017.4.17 in /home/laika/anaconda3/lib/python3.7/site-packages (from requests>=2.20->yfinance) (2019.3.9)\n",
      "Requirement already satisfied: chardet<3.1.0,>=3.0.2 in /home/laika/anaconda3/lib/python3.7/site-packages (from requests>=2.20->yfinance) (3.0.4)\n",
      "Requirement already satisfied: idna<2.9,>=2.5 in /home/laika/anaconda3/lib/python3.7/site-packages (from requests>=2.20->yfinance) (2.8)\n",
      "Installing collected packages: zope.interface, datetime\n",
      "Successfully installed datetime-4.3 zope.interface-4.6.0\n",
      "Note: you may need to restart the kernel to use updated packages.\n"
     ]
    }
   ],
   "source": [
    "pip install matplotlib seaborn yfinance pandas_datareader xlrd datetime"
   ]
  },
  {
   "cell_type": "markdown",
   "metadata": {},
   "source": [
    "# Question #1"
   ]
  },
  {
   "cell_type": "markdown",
   "metadata": {},
   "source": [
    "### Report Class"
   ]
  },
  {
   "cell_type": "code",
   "execution_count": 40,
   "metadata": {},
   "outputs": [],
   "source": [
    "import yfinance as yfin\n",
    "import pandas as pd\n",
    "import numpy as np\n",
    "import matplotlib.pyplot as plt\n",
    "import datetime as dt\n",
    "import time\n",
    "import seaborn as sns\n",
    "from pandas_datareader import data as pdr\n",
    "\n",
    "\n",
    "\n",
    "def true_range(high, low, previous_close=0):\n",
    "    return max(abs(high - low),\n",
    "               abs(high - previous_close),\n",
    "               abs(low - previous_close))\n",
    "   \n"
   ]
  },
  {
   "cell_type": "code",
   "execution_count": 124,
   "metadata": {},
   "outputs": [],
   "source": [
    "class Reports:\n",
    "\n",
    "    def __init__(self):\n",
    "        self.data = None\n",
    "        self.atr = None\n",
    "        self.tr = None\n",
    "        self.retrieve_data()\n",
    "\n",
    "    # Retrieve data from yahoo finances\n",
    "    def retrieve_data(self):\n",
    "        self.data = pdr.get_data_yahoo('SPY')\n",
    "        return self.data.tail()\n",
    "\n",
    "    # Calculate simple average in days\n",
    "    def simple_average(self, days):\n",
    "        data = self.data.tail(days)\n",
    "        return str(sum(data[\"Close\"]) / days)\n",
    "   \n",
    "    \n",
    "    def set_true_range(self):\n",
    "        info = self.data\n",
    "        tr = []\n",
    "        for i in range(len(self.data)):\n",
    "            high = self.data.loc[:, \"High\"][-1+i]\n",
    "            low = self.data.loc[:, \"Low\"][-1+i]\n",
    "            previous = self.data.loc[:, \"Close\"][-2+i]\n",
    "            tr.append(true_range(high,low,previous))\n",
    "        \n",
    "        info[\"TR\"] = tr\n",
    "        self.data = info\n",
    "        \n",
    "    def set_avg_5th_range(self):\n",
    "        info = self.data\n",
    "        result = []\n",
    "        for i in range(len(info)):\n",
    "            if i < 5:\n",
    "                result.append(0)\n",
    "            else:\n",
    "                sum = 0\n",
    "                for j in range(i,i-5,-1):\n",
    "                    #print(info[\"TR\"][j],\"index:\",i)\n",
    "                    sum += info[\"TR\"][j]\n",
    "                result.append(sum/5)\n",
    "                \n",
    "        \n",
    "        info[\"AVG5\"] = result\n",
    "        self.data = info\n",
    "                    \n",
    "\n",
    "    # Average true range in days\n",
    "    def average_true_range(self, num):\n",
    "        last_num_days = self.data.tail(num + 1)\n",
    "        # Exlude the last day\n",
    "        last_num_days = last_num_days.iloc[:-1, :]\n",
    "        avg = []\n",
    "        for i in range(last_num_days.shape[0]):\n",
    "            high = last_num_days.loc[:, \"High\"][i]\n",
    "            low = last_num_days.loc[:, \"Low\"][i]\n",
    "            previus_one = 0 if i <= 0 else i - 1\n",
    "            previous_close = last_num_days.loc[:, \"Close\"][previus_one]\n",
    "            result = true_range(high, low, previous_close)\n",
    "            avg.append(result)\n",
    "            \n",
    "\n",
    "        return np.mean(avg)\n",
    "    \n",
    "    \n",
    "        \n",
    "\n",
    "    # Daily % return\n",
    "    def daily_return(self, days):\n",
    "        data = self.data.tail(days)\n",
    "        dif = data.loc[:, \"Close\"][-1] - data.loc[:, \"Close\"][0]\n",
    "        return dif / 100 * data.loc[:, \"Close\"][0]\n",
    "\n",
    "   \n",
    "\n",
    "    # You can adjust by parameter the scale of the higher values \n",
    "    #num : scale to compare values and get higher values\n",
    "    #Kind: 'tr'for True Range or 'avg' for Average True range of Last 5 days\n",
    "    def optimize(self,num,kind=0):\n",
    "        \n",
    "        result = {}\n",
    "        info = self.data\n",
    "        mean = 0\n",
    "        if kind.lower is \"tr\":\n",
    "            mean = info[\"TR\"].mean()\n",
    "        else:\n",
    "            mean = info[\"AVG5\"].mean()\n",
    "        rank = mean +  mean * num\n",
    "        \n",
    "        for i in range(len(self.data)):\n",
    "            if kind.lower is \"tr\":\n",
    "                value = info[\"TR\"][i]\n",
    "            else:\n",
    "                value = info[\"AVG5\"][i]\n",
    "    \n",
    "            if value > rank:\n",
    "                date = info.index[i].strftime(\"%m/%d/%y\")\n",
    "                result[date] = value\n",
    "                \n",
    "                \n",
    "            \n",
    "                \n",
    "                \n",
    "                \n",
    "        return result\n",
    "                \n",
    "                \n",
    "            \n"
   ]
  },
  {
   "cell_type": "markdown",
   "metadata": {},
   "source": [
    "### Main"
   ]
  },
  {
   "cell_type": "code",
   "execution_count": 125,
   "metadata": {},
   "outputs": [],
   "source": [
    "report = Reports()\n",
    "report.set_true_range()\n",
    "report.data[\"TR\"][1]=report.data.loc[:,[\"TR\"]].median()\n",
    "report.set_avg_5th_range()\n",
    "\n",
    "current_TR = report.data[\"TR\"][-1]\n",
    "avg_tr = report.average_true_range(5)\n",
    "daily_return = report.daily_return(5)\n",
    "\n",
    "\n",
    "\n",
    "\n",
    "    \n",
    "\n",
    "\n",
    "\n",
    "\n",
    "\n"
   ]
  },
  {
   "cell_type": "markdown",
   "metadata": {},
   "source": [
    "### Data Cleanning"
   ]
  },
  {
   "cell_type": "code",
   "execution_count": 126,
   "metadata": {},
   "outputs": [
    {
     "data": {
      "text/plain": [
       "9.918002319335937"
      ]
     },
     "execution_count": 126,
     "metadata": {},
     "output_type": "execute_result"
    }
   ],
   "source": [
    "report.data[\"AVG5\"].max()"
   ]
  },
  {
   "cell_type": "markdown",
   "metadata": {},
   "source": [
    "### Running "
   ]
  },
  {
   "cell_type": "code",
   "execution_count": 127,
   "metadata": {},
   "outputs": [
    {
     "data": {
      "text/plain": [
       "<matplotlib.legend.Legend at 0x7f361553d4e0>"
      ]
     },
     "execution_count": 127,
     "metadata": {},
     "output_type": "execute_result"
    },
    {
     "data": {
      "image/png": "[encoded data removed]",
      "text/plain": [
       "<Figure size 720x720 with 1 Axes>"
      ]
     },
     "metadata": {
      "needs_background": "light"
     },
     "output_type": "display_data"
    }
   ],
   "source": [
    "sma_ndays = report.data[\"Close\"].rolling(100).mean()\n",
    "plt.figure(figsize=(10,10))\n",
    "plt.grid(True)\n",
    "plt.plot(sma_ndays,label='SMA')\n",
    "plt.plot(report.data[\"Open\"],label='Open value')\n",
    "plt.plot(report.data[\"Close\"],label='Close value')\n",
    "\n",
    "\n",
    "plt.legend(loc=2)"
   ]
  },
  {
   "cell_type": "code",
   "execution_count": 128,
   "metadata": {},
   "outputs": [
    {
     "name": "stdout",
     "output_type": "stream",
     "text": [
      "The current TR is 3.459991455078125\n",
      "The avg tr in the last 5 days is 3.38800048828125\n",
      "The current TR is not lower than the Average TR\n"
     ]
    }
   ],
   "source": [
    "print(\"The current TR is {0}\".format(current_TR))\n",
    "print(\"The avg tr in the last 5 days is {0}\".format(avg_tr))\n",
    "if current_TR < avg_tr:\n",
    "    ans = \"The % of return was {0} and the SMA was {1}\".format(daily_return, sma)\n",
    "else:\n",
    "    ans = \"The current TR is not lower than the Average TR\"\n",
    "print(ans)"
   ]
  },
  {
   "cell_type": "markdown",
   "metadata": {},
   "source": [
    "## Optimization"
   ]
  },
  {
   "cell_type": "code",
   "execution_count": 132,
   "metadata": {},
   "outputs": [],
   "source": [
    "result = report.optimize(2,\"AVG5\")"
   ]
  },
  {
   "cell_type": "code",
   "execution_count": 133,
   "metadata": {},
   "outputs": [
    {
     "data": {
      "text/plain": [
       "{'08/11/11': 6.464002990722657,\n",
       " '08/12/11': 6.568002319335937,\n",
       " '08/26/15': 7.45999755859375,\n",
       " '08/27/15': 8.439999389648438,\n",
       " '08/28/15': 8.510000610351563,\n",
       " '08/31/15': 7.596002197265625,\n",
       " '02/07/18': 6.941998291015625,\n",
       " '02/08/18': 7.3739990234375,\n",
       " '02/09/18': 9.01400146484375,\n",
       " '02/12/18': 9.918002319335937,\n",
       " '02/13/18': 8.512002563476562,\n",
       " '02/14/18': 6.974002075195313,\n",
       " '02/15/18': 7.1580047607421875,\n",
       " '03/28/18': 6.434002685546875,\n",
       " '03/29/18': 6.630010986328125,\n",
       " '04/02/18': 6.30201416015625,\n",
       " '04/03/18': 6.656008911132813,\n",
       " '04/09/18': 6.286001586914063,\n",
       " '10/17/18': 6.4280029296875,\n",
       " '10/29/18': 6.7219970703125,\n",
       " '10/30/18': 8.21199951171875,\n",
       " '10/31/18': 7.93199462890625,\n",
       " '11/01/18': 7.21199951171875,\n",
       " '11/02/18': 6.584002685546875,\n",
       " '12/10/18': 6.675994873046875,\n",
       " '12/11/18': 7.417999267578125,\n",
       " '12/12/18': 7.54599609375,\n",
       " '12/13/18': 6.639996337890625,\n",
       " '12/21/18': 6.865997314453125,\n",
       " '12/24/18': 7.708001708984375,\n",
       " '12/26/18': 7.598001098632812,\n",
       " '12/27/18': 9.147998046875,\n",
       " '12/28/18': 9.003997802734375,\n",
       " '12/31/18': 8.599996948242188,\n",
       " '01/02/19': 7.197994995117187,\n",
       " '01/03/19': 6.93599853515625}"
      ]
     },
     "execution_count": 133,
     "metadata": {},
     "output_type": "execute_result"
    }
   ],
   "source": [
    "result"
   ]
  },
  {
   "cell_type": "code",
   "execution_count": 134,
   "metadata": {},
   "outputs": [],
   "source": [
    "result = report.optimize(2,\"tr\")"
   ]
  },
  {
   "cell_type": "code",
   "execution_count": 136,
   "metadata": {},
   "outputs": [],
   "source": [
    "def print_optimization():\n",
    "    plt.figure(figsize=(15,10))\n",
    "    date = list(result.keys())\n",
    "    value = list(result.values())\n",
    "    bar = sns.barplot(x=date,y=value)\n",
    "    plt.xticks(rotation=45)"
   ]
  },
  {
   "cell_type": "code",
   "execution_count": 137,
   "metadata": {},
   "outputs": [
    {
     "data": {
      "image/png": "[encoded data removed]",
      "text/plain": [
       "<Figure size 1080x720 with 1 Axes>"
      ]
     },
     "metadata": {
      "needs_background": "light"
     },
     "output_type": "display_data"
    }
   ],
   "source": [
    "print_optimization()"
   ]
  },
  {
   "cell_type": "markdown",
   "metadata": {},
   "source": [
    "# QUESTION #2"
   ]
  },
  {
   "cell_type": "markdown",
   "metadata": {},
   "source": [
    "### Cleanner class"
   ]
  },
  {
   "cell_type": "code",
   "execution_count": 140,
   "metadata": {},
   "outputs": [],
   "source": [
    "import pandas as pd\n",
    "import datetime as dt\n",
    "import numpy as np\n",
    "from collections import Counter\n",
    "\n",
    "class Cleanner():\n",
    "\n",
    "    def __init__(self):\n",
    "        self.data = None\n",
    "        self.clean()\n",
    "\n",
    "    # Delete some NaN dates\n",
    "    def clean(self):\n",
    "        data = pd.read_excel(\"test for trigger dates.xlsx\")\n",
    "        data = data.iloc[:, :3]\n",
    "        data = data.dropna()\n",
    "        #sns.countplot(data[\"date start\"])\n",
    "        self.data = data\n",
    "\n",
    "    # Sort data by month and create a dictionary to store days\n",
    "    def sort_data(self):\n",
    "        data = self.data\n",
    "        result = {}\n",
    "        for value in data[\"date start\"]:\n",
    "            month_str = value.strftime(\"%B\")\n",
    "            if month_str not in result:\n",
    "                result[month_str] = []\n",
    "            else:\n",
    "                result[month_str].append(value.day)\n",
    "                result[month_str] = list(result[month_str])\n",
    "\n",
    "        return result\n",
    "    \n",
    "    # Show and count how many times a day repeat trought the time\n",
    "    def show_data(self):\n",
    "        result = {}\n",
    "        data = self.sort_data()\n",
    "        for value in data.keys():\n",
    "            result[value] = Counter(data[value])\n",
    "        \n",
    "        return result\n",
    "    \n",
    "    \n",
    "        \n",
    "\n",
    "            \n",
    "    \n",
    "    \n",
    " \n",
    "        \n",
    "    \n"
   ]
  },
  {
   "cell_type": "code",
   "execution_count": null,
   "metadata": {},
   "outputs": [],
   "source": []
  },
  {
   "cell_type": "code",
   "execution_count": 141,
   "metadata": {},
   "outputs": [],
   "source": [
    "cln = Cleanner()"
   ]
  },
  {
   "cell_type": "code",
   "execution_count": 142,
   "metadata": {
    "scrolled": true
   },
   "outputs": [],
   "source": [
    "data = cln.show_data()"
   ]
  },
  {
   "cell_type": "code",
   "execution_count": 243,
   "metadata": {},
   "outputs": [
    {
     "data": {
      "text/plain": [
       "{'January': Counter({28: 4,\n",
       "          12: 3,\n",
       "          5: 3,\n",
       "          13: 1,\n",
       "          20: 5,\n",
       "          27: 1,\n",
       "          19: 2,\n",
       "          3: 3,\n",
       "          17: 2,\n",
       "          4: 3,\n",
       "          16: 1,\n",
       "          2: 2,\n",
       "          9: 2,\n",
       "          10: 2,\n",
       "          8: 2,\n",
       "          30: 3,\n",
       "          23: 3,\n",
       "          29: 3,\n",
       "          11: 1,\n",
       "          7: 2,\n",
       "          31: 1,\n",
       "          25: 1,\n",
       "          18: 1,\n",
       "          6: 1,\n",
       "          26: 1}),\n",
       " 'February': Counter({13: 3,\n",
       "          8: 5,\n",
       "          25: 1,\n",
       "          14: 2,\n",
       "          2: 4,\n",
       "          5: 2,\n",
       "          22: 1,\n",
       "          7: 3,\n",
       "          18: 1,\n",
       "          17: 3,\n",
       "          3: 1,\n",
       "          12: 1,\n",
       "          16: 1,\n",
       "          6: 2,\n",
       "          15: 1,\n",
       "          11: 4,\n",
       "          24: 1,\n",
       "          1: 2,\n",
       "          23: 1,\n",
       "          26: 1}),\n",
       " 'March': Counter({16: 1,\n",
       "          29: 2,\n",
       "          4: 3,\n",
       "          12: 2,\n",
       "          31: 2,\n",
       "          2: 1,\n",
       "          7: 4,\n",
       "          30: 1,\n",
       "          20: 4,\n",
       "          22: 1,\n",
       "          8: 2,\n",
       "          21: 3,\n",
       "          28: 2,\n",
       "          10: 2,\n",
       "          6: 2,\n",
       "          11: 1,\n",
       "          3: 3,\n",
       "          17: 5,\n",
       "          26: 3,\n",
       "          27: 1,\n",
       "          5: 1,\n",
       "          19: 2,\n",
       "          1: 1,\n",
       "          13: 1,\n",
       "          24: 1,\n",
       "          15: 1,\n",
       "          23: 2}),\n",
       " 'May': Counter({16: 2,\n",
       "          17: 3,\n",
       "          30: 1,\n",
       "          19: 4,\n",
       "          2: 1,\n",
       "          22: 3,\n",
       "          4: 2,\n",
       "          14: 2,\n",
       "          9: 2,\n",
       "          28: 1,\n",
       "          11: 2,\n",
       "          1: 6,\n",
       "          5: 1,\n",
       "          18: 1,\n",
       "          6: 2,\n",
       "          24: 1,\n",
       "          27: 2,\n",
       "          3: 2,\n",
       "          10: 1,\n",
       "          20: 3,\n",
       "          8: 1,\n",
       "          7: 1,\n",
       "          21: 3,\n",
       "          29: 1,\n",
       "          25: 1,\n",
       "          31: 2,\n",
       "          12: 1,\n",
       "          23: 1,\n",
       "          13: 1}),\n",
       " 'July': Counter({10: 3,\n",
       "          12: 3,\n",
       "          11: 1,\n",
       "          20: 2,\n",
       "          27: 2,\n",
       "          13: 1,\n",
       "          21: 3,\n",
       "          5: 1,\n",
       "          6: 3,\n",
       "          19: 4,\n",
       "          28: 2,\n",
       "          16: 3,\n",
       "          18: 1,\n",
       "          15: 4,\n",
       "          26: 1,\n",
       "          2: 1,\n",
       "          14: 3,\n",
       "          7: 1,\n",
       "          31: 3,\n",
       "          17: 1,\n",
       "          23: 2,\n",
       "          22: 2,\n",
       "          30: 2}),\n",
       " 'August': Counter({9: 2,\n",
       "          13: 1,\n",
       "          3: 2,\n",
       "          24: 4,\n",
       "          7: 3,\n",
       "          23: 1,\n",
       "          29: 2,\n",
       "          16: 1,\n",
       "          19: 6,\n",
       "          11: 1,\n",
       "          6: 1,\n",
       "          27: 1,\n",
       "          1: 1,\n",
       "          22: 3,\n",
       "          10: 3,\n",
       "          15: 2,\n",
       "          5: 2,\n",
       "          25: 2,\n",
       "          17: 2,\n",
       "          26: 2,\n",
       "          31: 1,\n",
       "          30: 4,\n",
       "          18: 1,\n",
       "          21: 1,\n",
       "          2: 2}),\n",
       " 'September': Counter({3: 3,\n",
       "          11: 1,\n",
       "          2: 1,\n",
       "          16: 7,\n",
       "          8: 1,\n",
       "          22: 3,\n",
       "          9: 1,\n",
       "          29: 2,\n",
       "          10: 2,\n",
       "          7: 2,\n",
       "          15: 1,\n",
       "          30: 2,\n",
       "          5: 1,\n",
       "          12: 1,\n",
       "          23: 1,\n",
       "          13: 2,\n",
       "          18: 1,\n",
       "          28: 2,\n",
       "          14: 2,\n",
       "          25: 2,\n",
       "          19: 2,\n",
       "          27: 1,\n",
       "          17: 1,\n",
       "          24: 1,\n",
       "          6: 1}),\n",
       " 'October': Counter({18: 2,\n",
       "          3: 5,\n",
       "          11: 3,\n",
       "          8: 3,\n",
       "          13: 3,\n",
       "          21: 3,\n",
       "          29: 1,\n",
       "          2: 1,\n",
       "          6: 2,\n",
       "          16: 2,\n",
       "          5: 2,\n",
       "          19: 3,\n",
       "          24: 1,\n",
       "          26: 2,\n",
       "          9: 3,\n",
       "          23: 1,\n",
       "          14: 1,\n",
       "          22: 2,\n",
       "          20: 1,\n",
       "          30: 2,\n",
       "          28: 2,\n",
       "          12: 1,\n",
       "          1: 1,\n",
       "          4: 1,\n",
       "          17: 1,\n",
       "          27: 1}),\n",
       " 'November': Counter({8: 2,\n",
       "          11: 2,\n",
       "          25: 3,\n",
       "          14: 4,\n",
       "          17: 5,\n",
       "          3: 2,\n",
       "          28: 2,\n",
       "          20: 1,\n",
       "          10: 1,\n",
       "          2: 5,\n",
       "          13: 4,\n",
       "          5: 2,\n",
       "          22: 2,\n",
       "          30: 1,\n",
       "          6: 4,\n",
       "          9: 2,\n",
       "          15: 1,\n",
       "          18: 2,\n",
       "          24: 2,\n",
       "          16: 4,\n",
       "          29: 3,\n",
       "          23: 2,\n",
       "          4: 1,\n",
       "          7: 1,\n",
       "          19: 1,\n",
       "          12: 1,\n",
       "          21: 2,\n",
       "          27: 1}),\n",
       " 'April': Counter({7: 2,\n",
       "          16: 3,\n",
       "          2: 5,\n",
       "          14: 1,\n",
       "          26: 1,\n",
       "          13: 4,\n",
       "          25: 1,\n",
       "          10: 3,\n",
       "          23: 3,\n",
       "          8: 1,\n",
       "          27: 3,\n",
       "          29: 4,\n",
       "          4: 2,\n",
       "          24: 2,\n",
       "          11: 1,\n",
       "          12: 2,\n",
       "          1: 2,\n",
       "          21: 3,\n",
       "          18: 1,\n",
       "          22: 1,\n",
       "          9: 1,\n",
       "          28: 2,\n",
       "          20: 1,\n",
       "          6: 2,\n",
       "          17: 1}),\n",
       " 'June': Counter({24: 4,\n",
       "          27: 3,\n",
       "          19: 3,\n",
       "          5: 2,\n",
       "          13: 5,\n",
       "          7: 1,\n",
       "          14: 1,\n",
       "          1: 3,\n",
       "          17: 1,\n",
       "          29: 4,\n",
       "          10: 4,\n",
       "          15: 2,\n",
       "          22: 1,\n",
       "          6: 2,\n",
       "          12: 2,\n",
       "          28: 2,\n",
       "          8: 2,\n",
       "          18: 2,\n",
       "          30: 1,\n",
       "          4: 1,\n",
       "          25: 1,\n",
       "          21: 2,\n",
       "          20: 1,\n",
       "          16: 1,\n",
       "          23: 1}),\n",
       " 'December': Counter({27: 3,\n",
       "          3: 2,\n",
       "          21: 2,\n",
       "          12: 2,\n",
       "          31: 1,\n",
       "          26: 1,\n",
       "          9: 1,\n",
       "          28: 4,\n",
       "          15: 2,\n",
       "          6: 3,\n",
       "          11: 2,\n",
       "          10: 4,\n",
       "          20: 1,\n",
       "          17: 1,\n",
       "          13: 1,\n",
       "          19: 1,\n",
       "          1: 1,\n",
       "          5: 1,\n",
       "          24: 2,\n",
       "          16: 1})}"
      ]
     },
     "execution_count": 243,
     "metadata": {},
     "output_type": "execute_result"
    }
   ],
   "source": [
    "data"
   ]
  },
  {
   "cell_type": "code",
   "execution_count": 325,
   "metadata": {},
   "outputs": [],
   "source": [
    "def sort_dict(mydict):\n",
    "    result = {}\n",
    "    for key, value in sorted(mydict.items(), key=lambda item: item[1],reverse=True):\n",
    "        result[key] = value\n",
    "    \n",
    "    return result\n",
    "\n",
    "#Get the higher num of repeated data\n",
    "def optimize(num):\n",
    "    info = cln.show_data()\n",
    "    result = {}\n",
    "    \n",
    "    for row in info.items():\n",
    "        \n",
    "        \n",
    "        days = list(row[1].keys())\n",
    "        values = list(row[1].values())\n",
    "        count = {}\n",
    "        for i in range(0,num):\n",
    "          \n",
    "            count[days[i]] = values[i]\n",
    "            #print(values[i])\n",
    "        \n",
    "        result[row[0]] = count\n",
    "        #print(\"-----------\")\n",
    "        #print(row[0])\n",
    "        ratio = sum(list(result[row[0]].values()))\n",
    "        total = sum(list(values))\n",
    "        #print(\"Rate used: {0}\".format(total/ratio))\n",
    "      \n",
    "        \n",
    "    \n",
    "\n",
    "        sort_dict(result[row[0]])\n",
    "        \n",
    "        \n",
    "    \n",
    "    return result\n",
    "        \n",
    "    \n",
    "            \n",
    "            \n",
    "            \n"
   ]
  },
  {
   "cell_type": "code",
   "execution_count": 327,
   "metadata": {},
   "outputs": [
    {
     "ename": "ValueError",
     "evalue": "dictionary update sequence element #0 has length 7; 2 is required",
     "output_type": "error",
     "traceback": [
      "\u001b[0;31m---------------------------------------------------------------------------\u001b[0m",
      "\u001b[0;31mValueError\u001b[0m                                Traceback (most recent call last)",
      "\u001b[0;32m<ipython-input-327-ffbfdd466c88>\u001b[0m in \u001b[0;36m<module>\u001b[0;34m\u001b[0m\n\u001b[0;32m----> 1\u001b[0;31m \u001b[0moptimize\u001b[0m\u001b[0;34m(\u001b[0m\u001b[0;36m3\u001b[0m\u001b[0;34m)\u001b[0m\u001b[0;34m\u001b[0m\u001b[0;34m\u001b[0m\u001b[0m\n\u001b[0m",
      "\u001b[0;32m<ipython-input-325-833ce13db049>\u001b[0m in \u001b[0;36moptimize\u001b[0;34m(num)\u001b[0m\n\u001b[1;32m     12\u001b[0m     \u001b[0mresult\u001b[0m \u001b[0;34m=\u001b[0m \u001b[0;34m{\u001b[0m\u001b[0;34m}\u001b[0m\u001b[0;34m\u001b[0m\u001b[0;34m\u001b[0m\u001b[0m\n\u001b[1;32m     13\u001b[0m     \u001b[0;32mfor\u001b[0m \u001b[0mrow\u001b[0m \u001b[0;32min\u001b[0m \u001b[0minfo\u001b[0m\u001b[0;34m.\u001b[0m\u001b[0mitems\u001b[0m\u001b[0;34m(\u001b[0m\u001b[0;34m)\u001b[0m\u001b[0;34m:\u001b[0m\u001b[0;34m\u001b[0m\u001b[0;34m\u001b[0m\u001b[0m\n\u001b[0;32m---> 14\u001b[0;31m         \u001b[0melem\u001b[0m \u001b[0;34m=\u001b[0m \u001b[0msort_dict\u001b[0m\u001b[0;34m(\u001b[0m\u001b[0mdict\u001b[0m\u001b[0;34m(\u001b[0m\u001b[0mrow\u001b[0m\u001b[0;34m)\u001b[0m\u001b[0;34m)\u001b[0m\u001b[0;34m\u001b[0m\u001b[0;34m\u001b[0m\u001b[0m\n\u001b[0m\u001b[1;32m     15\u001b[0m \u001b[0;34m\u001b[0m\u001b[0m\n\u001b[1;32m     16\u001b[0m         \u001b[0mdays\u001b[0m \u001b[0;34m=\u001b[0m \u001b[0mlist\u001b[0m\u001b[0;34m(\u001b[0m\u001b[0melem\u001b[0m\u001b[0;34m[\u001b[0m\u001b[0;36m1\u001b[0m\u001b[0;34m]\u001b[0m\u001b[0;34m.\u001b[0m\u001b[0mkeys\u001b[0m\u001b[0;34m(\u001b[0m\u001b[0;34m)\u001b[0m\u001b[0;34m)\u001b[0m\u001b[0;34m\u001b[0m\u001b[0;34m\u001b[0m\u001b[0m\n",
      "\u001b[0;31mValueError\u001b[0m: dictionary update sequence element #0 has length 7; 2 is required"
     ]
    }
   ],
   "source": [
    "optimize(3)"
   ]
  },
  {
   "cell_type": "markdown",
   "metadata": {},
   "source": [
    "## VISUALIZE "
   ]
  },
  {
   "cell_type": "code",
   "execution_count": 305,
   "metadata": {},
   "outputs": [
    {
     "ename": "TypeError",
     "evalue": "optimize() missing 1 required positional argument: 'num'",
     "output_type": "error",
     "traceback": [
      "\u001b[0;31m---------------------------------------------------------------------------\u001b[0m",
      "\u001b[0;31mTypeError\u001b[0m                                 Traceback (most recent call last)",
      "\u001b[0;32m<ipython-input-305-50e9150dd1f4>\u001b[0m in \u001b[0;36m<module>\u001b[0;34m\u001b[0m\n\u001b[1;32m      3\u001b[0m \u001b[0mplt\u001b[0m\u001b[0;34m.\u001b[0m\u001b[0mylabel\u001b[0m\u001b[0;34m(\u001b[0m\u001b[0;34m\"Count\"\u001b[0m\u001b[0;34m)\u001b[0m\u001b[0;34m\u001b[0m\u001b[0;34m\u001b[0m\u001b[0m\n\u001b[1;32m      4\u001b[0m \u001b[0;34m\u001b[0m\u001b[0m\n\u001b[0;32m----> 5\u001b[0;31m \u001b[0mresult\u001b[0m \u001b[0;34m=\u001b[0m \u001b[0moptimize\u001b[0m\u001b[0;34m(\u001b[0m\u001b[0;34m)\u001b[0m\u001b[0;34m\u001b[0m\u001b[0;34m\u001b[0m\u001b[0m\n\u001b[0m\u001b[1;32m      6\u001b[0m \u001b[0;32mfor\u001b[0m \u001b[0mkey\u001b[0m \u001b[0;32min\u001b[0m \u001b[0mresult\u001b[0m\u001b[0;34m.\u001b[0m\u001b[0mkeys\u001b[0m\u001b[0;34m(\u001b[0m\u001b[0;34m)\u001b[0m\u001b[0;34m:\u001b[0m\u001b[0;34m\u001b[0m\u001b[0;34m\u001b[0m\u001b[0m\n\u001b[1;32m      7\u001b[0m     \u001b[0mvalues\u001b[0m \u001b[0;34m=\u001b[0m \u001b[0mlist\u001b[0m\u001b[0;34m(\u001b[0m\u001b[0mresult\u001b[0m\u001b[0;34m[\u001b[0m\u001b[0mkey\u001b[0m\u001b[0;34m]\u001b[0m\u001b[0;34m.\u001b[0m\u001b[0mkeys\u001b[0m\u001b[0;34m(\u001b[0m\u001b[0;34m)\u001b[0m\u001b[0;34m)\u001b[0m\u001b[0;34m\u001b[0m\u001b[0;34m\u001b[0m\u001b[0m\n",
      "\u001b[0;31mTypeError\u001b[0m: optimize() missing 1 required positional argument: 'num'"
     ]
    },
    {
     "data": {
      "image/png": "[encoded data removed]",
      "text/plain": [
       "<Figure size 864x864 with 1 Axes>"
      ]
     },
     "metadata": {
      "needs_background": "light"
     },
     "output_type": "display_data"
    }
   ],
   "source": [
    "plt.figure(figsize=(12,12))\n",
    "plt.xlabel(\"Days\")\n",
    "plt.ylabel(\"Count\")\n",
    "\n",
    "result = optimize()\n",
    "for key in result.keys():\n",
    "    values = list(result[key].keys())\n",
    "    freq = list(result[key].values())\n",
    "    sns.barplot(x=values,y=freq)"
   ]
  },
  {
   "cell_type": "code",
   "execution_count": null,
   "metadata": {},
   "outputs": [],
   "source": []
  }
 ],
 "metadata": {
  "kernelspec": {
   "display_name": "Python 3",
   "language": "python",
   "name": "python3"
  },
  "language_info": {
   "codemirror_mode": {
    "name": "ipython",
    "version": 3
   },
   "file_extension": ".py",
   "mimetype": "text/x-python",
   "name": "python",
   "nbconvert_exporter": "python",
   "pygments_lexer": "ipython3",
   "version": "3.7.3"
  }
 },
 "nbformat": 4,
 "nbformat_minor": 2
}
