{
 "cells": [
  {
   "cell_type": "markdown",
   "metadata": {},
   "source": [
    "## Install dependencies"
   ]
  },
  {
   "cell_type": "code",
   "execution_count": 1,
   "metadata": {},
   "outputs": [
    {
     "name": "stdout",
     "output_type": "stream",
     "text": [
      "Requirement already satisfied: matplotlib in /home/laika/anaconda3/lib/python3.7/site-packages (3.0.3)\n",
      "Requirement already satisfied: seaborn in /home/laika/anaconda3/lib/python3.7/site-packages (0.9.0)\n",
      "Requirement already satisfied: yfinance in /home/laika/anaconda3/lib/python3.7/site-packages (0.1.39)\n",
      "Requirement already satisfied: pandas_datareader in /home/laika/anaconda3/lib/python3.7/site-packages (0.7.0)\n",
      "Requirement already satisfied: xlrd in /home/laika/anaconda3/lib/python3.7/site-packages (1.2.0)\n",
      "Requirement already satisfied: datetime in /home/laika/anaconda3/lib/python3.7/site-packages (4.3)\n",
      "Requirement already satisfied: numpy>=1.10.0 in /home/laika/anaconda3/lib/python3.7/site-packages (from matplotlib) (1.16.2)\n",
      "Requirement already satisfied: cycler>=0.10 in /home/laika/anaconda3/lib/python3.7/site-packages (from matplotlib) (0.10.0)\n",
      "Requirement already satisfied: kiwisolver>=1.0.1 in /home/laika/anaconda3/lib/python3.7/site-packages (from matplotlib) (1.0.1)\n",
      "Requirement already satisfied: pyparsing!=2.0.4,!=2.1.2,!=2.1.6,>=2.0.1 in /home/laika/anaconda3/lib/python3.7/site-packages (from matplotlib) (2.3.1)\n",
      "Requirement already satisfied: python-dateutil>=2.1 in /home/laika/anaconda3/lib/python3.7/site-packages (from matplotlib) (2.8.0)\n",
      "Requirement already satisfied: scipy>=0.14.0 in /home/laika/anaconda3/lib/python3.7/site-packages (from seaborn) (1.2.1)\n",
      "Requirement already satisfied: pandas>=0.15.2 in /home/laika/anaconda3/lib/python3.7/site-packages (from seaborn) (0.24.2)\n",
      "Requirement already satisfied: multitasking>=0.0.7 in /home/laika/anaconda3/lib/python3.7/site-packages (from yfinance) (0.0.9)\n",
      "Requirement already satisfied: requests>=2.20 in /home/laika/anaconda3/lib/python3.7/site-packages (from yfinance) (2.21.0)\n",
      "Requirement already satisfied: wrapt in /home/laika/anaconda3/lib/python3.7/site-packages (from pandas_datareader) (1.11.1)\n",
      "Requirement already satisfied: lxml in /home/laika/anaconda3/lib/python3.7/site-packages (from pandas_datareader) (4.3.2)\n",
      "Requirement already satisfied: zope.interface in /home/laika/anaconda3/lib/python3.7/site-packages (from datetime) (4.6.0)\n",
      "Requirement already satisfied: pytz in /home/laika/anaconda3/lib/python3.7/site-packages (from datetime) (2018.9)\n",
      "Requirement already satisfied: six in /home/laika/anaconda3/lib/python3.7/site-packages (from cycler>=0.10->matplotlib) (1.12.0)\n",
      "Requirement already satisfied: setuptools in /home/laika/anaconda3/lib/python3.7/site-packages (from kiwisolver>=1.0.1->matplotlib) (40.8.0)\n",
      "Requirement already satisfied: chardet<3.1.0,>=3.0.2 in /home/laika/anaconda3/lib/python3.7/site-packages (from requests>=2.20->yfinance) (3.0.4)\n",
      "Requirement already satisfied: certifi>=2017.4.17 in /home/laika/anaconda3/lib/python3.7/site-packages (from requests>=2.20->yfinance) (2019.3.9)\n",
      "Requirement already satisfied: urllib3<1.25,>=1.21.1 in /home/laika/anaconda3/lib/python3.7/site-packages (from requests>=2.20->yfinance) (1.24.1)\n",
      "Requirement already satisfied: idna<2.9,>=2.5 in /home/laika/anaconda3/lib/python3.7/site-packages (from requests>=2.20->yfinance) (2.8)\n",
      "Note: you may need to restart the kernel to use updated packages.\n"
     ]
    }
   ],
   "source": [
    "pip install matplotlib seaborn yfinance pandas_datareader xlrd datetime"
   ]
  },
  {
   "cell_type": "markdown",
   "metadata": {},
   "source": [
    "# Question #1"
   ]
  },
  {
   "cell_type": "markdown",
   "metadata": {},
   "source": [
    "### Report Class"
   ]
  },
  {
   "cell_type": "code",
   "execution_count": 2,
   "metadata": {},
   "outputs": [],
   "source": [
    "import yfinance as yfin\n",
    "import pandas as pd\n",
    "import numpy as np\n",
    "import matplotlib.pyplot as plt\n",
    "import datetime as dt\n",
    "import time\n",
    "import seaborn as sns\n",
    "from pandas_datareader import data as pdr\n",
    "\n",
    "\n",
    "\n",
    "def true_range(high, low, previous_close=0):\n",
    "    return max(abs(high - low),\n",
    "               abs(high - previous_close),\n",
    "               abs(low - previous_close))\n",
    "   \n"
   ]
  },
  {
   "cell_type": "code",
   "execution_count": 3,
   "metadata": {},
   "outputs": [],
   "source": [
    "class Reports:\n",
    "\n",
    "    def __init__(self):\n",
    "        self.data = None\n",
    "        self.atr = None\n",
    "        self.tr = None\n",
    "        self.retrieve_data()\n",
    "\n",
    "    # Retrieve data from yahoo finances\n",
    "    def retrieve_data(self):\n",
    "        self.data = pdr.get_data_yahoo('SPY')\n",
    "        return self.data.tail()\n",
    "\n",
    "    # Calculate simple average in days\n",
    "    def simple_average(self, days):\n",
    "        data = self.data.tail(days)\n",
    "        return str(sum(data[\"Close\"]) / days)\n",
    "   \n",
    "    \n",
    "    def set_true_range(self):\n",
    "        info = self.data\n",
    "        tr = []\n",
    "        for i in range(len(self.data)):\n",
    "            high = self.data.loc[:, \"High\"][-1+i]\n",
    "            low = self.data.loc[:, \"Low\"][-1+i]\n",
    "            previous = self.data.loc[:, \"Close\"][-2+i]\n",
    "            tr.append(true_range(high,low,previous))\n",
    "        \n",
    "        info[\"TR\"] = tr\n",
    "        self.data = info\n",
    "        \n",
    "    def set_avg_5th_range(self):\n",
    "        info = self.data\n",
    "        result = []\n",
    "        for i in range(len(info)):\n",
    "            if i < 5:\n",
    "                result.append(0)\n",
    "            else:\n",
    "                sum = 0\n",
    "                for j in range(i,i-5,-1):\n",
    "                    #print(info[\"TR\"][j],\"index:\",i)\n",
    "                    sum += info[\"TR\"][j]\n",
    "                result.append(sum/5)\n",
    "                \n",
    "        \n",
    "        info[\"AVG5\"] = result\n",
    "        self.data = info\n",
    "                    \n",
    "\n",
    "    # Average true range in days\n",
    "    def average_true_range(self, num):\n",
    "        last_num_days = self.data.tail(num + 1)\n",
    "        # Exlude the last day\n",
    "        last_num_days = last_num_days.iloc[:-1, :]\n",
    "        avg = []\n",
    "        for i in range(last_num_days.shape[0]):\n",
    "            high = last_num_days.loc[:, \"High\"][i]\n",
    "            low = last_num_days.loc[:, \"Low\"][i]\n",
    "            previus_one = 0 if i <= 0 else i - 1\n",
    "            previous_close = last_num_days.loc[:, \"Close\"][previus_one]\n",
    "            result = true_range(high, low, previous_close)\n",
    "            avg.append(result)\n",
    "            \n",
    "\n",
    "        return np.mean(avg)\n",
    "    \n",
    "    \n",
    "        \n",
    "\n",
    "    # Daily % return\n",
    "    def daily_return(self, days):\n",
    "        data = self.data.tail(days)\n",
    "        dif = data.loc[:, \"Close\"][-1] - data.loc[:, \"Close\"][0]\n",
    "        return dif / 100 * data.loc[:, \"Close\"][0]\n",
    "\n",
    "   \n",
    "\n",
    "    # You can adjust by parameter the scale of the higher values \n",
    "    #num : scale to compare values and get higher values\n",
    "    #Kind: 'tr'for True Range or 'avg' for Average True range of Last 5 days\n",
    "    def optimize(self,num,kind=0):\n",
    "        \n",
    "        result = {}\n",
    "        info = self.data\n",
    "        mean = 0\n",
    "        if kind.lower is \"tr\":\n",
    "            mean = info[\"TR\"].mean()\n",
    "        else:\n",
    "            mean = info[\"AVG5\"].mean()\n",
    "        rank = mean +  mean * num\n",
    "        \n",
    "        for i in range(len(self.data)):\n",
    "            if kind.lower is \"tr\":\n",
    "                value = info[\"TR\"][i]\n",
    "            else:\n",
    "                value = info[\"AVG5\"][i]\n",
    "    \n",
    "            if value > rank:\n",
    "                date = info.index[i].strftime(\"%m/%d/%y\")\n",
    "                result[date] = value\n",
    "                \n",
    "                \n",
    "            \n",
    "                \n",
    "                \n",
    "                \n",
    "        return result\n",
    "                \n",
    "                \n",
    "            \n"
   ]
  },
  {
   "cell_type": "markdown",
   "metadata": {},
   "source": [
    "### Main"
   ]
  },
  {
   "cell_type": "code",
   "execution_count": 4,
   "metadata": {},
   "outputs": [],
   "source": [
    "report = Reports()\n",
    "report.set_true_range()\n",
    "report.data[\"TR\"][1]=report.data.loc[:,[\"TR\"]].median()\n",
    "report.set_avg_5th_range()\n",
    "\n",
    "current_TR = report.data[\"TR\"][-1]\n",
    "avg_tr = report.average_true_range(5)\n",
    "daily_return = report.daily_return(5)\n",
    "\n",
    "\n",
    "\n",
    "\n",
    "    \n",
    "\n",
    "\n",
    "\n",
    "\n",
    "\n"
   ]
  },
  {
   "cell_type": "markdown",
   "metadata": {},
   "source": [
    "### Data Cleanning"
   ]
  },
  {
   "cell_type": "code",
   "execution_count": 5,
   "metadata": {},
   "outputs": [
    {
     "data": {
      "text/plain": [
       "9.918002319335937"
      ]
     },
     "execution_count": 5,
     "metadata": {},
     "output_type": "execute_result"
    }
   ],
   "source": [
    "report.data[\"AVG5\"].max()"
   ]
  },
  {
   "cell_type": "markdown",
   "metadata": {},
   "source": [
    "### Running "
   ]
  },
  {
   "cell_type": "code",
   "execution_count": 6,
   "metadata": {},
   "outputs": [
    {
     "name": "stderr",
     "output_type": "stream",
     "text": [
      "/home/laika/anaconda3/lib/python3.7/site-packages/pandas/plotting/_converter.py:129: FutureWarning: Using an implicitly registered datetime converter for a matplotlib plotting method. The converter was registered by pandas on import. Future versions of pandas will require you to explicitly register matplotlib converters.\n",
      "\n",
      "To register the converters:\n",
      "\t>>> from pandas.plotting import register_matplotlib_converters\n",
      "\t>>> register_matplotlib_converters()\n",
      "  warnings.warn(msg, FutureWarning)\n"
     ]
    },
    {
     "data": {
      "text/plain": [
       "<matplotlib.legend.Legend at 0x7f271c4c44e0>"
      ]
     },
     "execution_count": 6,
     "metadata": {},
     "output_type": "execute_result"
    },
    {
     "data": {
      "image/png": "[encoded data removed]",
      "text/plain": [
       "<Figure size 720x720 with 1 Axes>"
      ]
     },
     "metadata": {
      "needs_background": "light"
     },
     "output_type": "display_data"
    }
   ],
   "source": [
    "sma_ndays = report.data[\"Close\"].rolling(100).mean()\n",
    "plt.figure(figsize=(10,10))\n",
    "plt.grid(True)\n",
    "plt.plot(sma_ndays,label='SMA')\n",
    "plt.plot(report.data[\"Open\"],label='Open value')\n",
    "plt.plot(report.data[\"Close\"],label='Close value')\n",
    "\n",
    "\n",
    "plt.legend(loc=2)"
   ]
  },
  {
   "cell_type": "code",
   "execution_count": 7,
   "metadata": {},
   "outputs": [
    {
     "name": "stdout",
     "output_type": "stream",
     "text": [
      "The current TR is 6.1099853515625\n",
      "The avg tr in the last 5 days is 3.647998046875\n",
      "The current TR is not lower than the Average TR\n"
     ]
    }
   ],
   "source": [
    "print(\"The current TR is {0}\".format(current_TR))\n",
    "print(\"The avg tr in the last 5 days is {0}\".format(avg_tr))\n",
    "if current_TR < avg_tr:\n",
    "    ans = \"The % of return was {0} and the SMA was {1}\".format(daily_return, sma)\n",
    "else:\n",
    "    ans = \"The current TR is not lower than the Average TR\"\n",
    "print(ans)"
   ]
  },
  {
   "cell_type": "markdown",
   "metadata": {},
   "source": [
    "## Optimization"
   ]
  },
  {
   "cell_type": "code",
   "execution_count": 115,
   "metadata": {},
   "outputs": [],
   "source": [
    "result = report.optimize(1,\"AVG5\")"
   ]
  },
  {
   "cell_type": "code",
   "execution_count": 116,
   "metadata": {},
   "outputs": [
    {
     "data": {
      "text/plain": [
       "{'05/07/10': 4.272001647949219,\n",
       " '05/10/10': 4.697999572753906,\n",
       " '05/11/10': 5.401998901367188,\n",
       " '05/12/10': 5.205998229980469,\n",
       " '05/13/10': 5.197998046875,\n",
       " '08/08/11': 4.16400146484375,\n",
       " '08/09/11': 5.098001098632812,\n",
       " '08/10/11': 5.91400146484375,\n",
       " '08/11/11': 6.464002990722657,\n",
       " '08/12/11': 6.568002319335937,\n",
       " '08/15/11': 5.9120025634765625,\n",
       " '08/16/11': 4.816000366210938,\n",
       " '12/19/14': 5.447998046875,\n",
       " '12/22/14': 5.1239990234375,\n",
       " '12/23/14': 4.575997924804687,\n",
       " '08/25/15': 5.9499969482421875,\n",
       " '08/26/15': 7.45999755859375,\n",
       " '08/27/15': 8.439999389648438,\n",
       " '08/28/15': 8.510000610351563,\n",
       " '08/31/15': 7.596002197265625,\n",
       " '09/01/15': 4.996002197265625,\n",
       " '09/02/15': 4.652001953125,\n",
       " '09/09/15': 4.529998779296875,\n",
       " '09/10/15': 4.191998291015625,\n",
       " '01/14/16': 4.596002197265625,\n",
       " '01/15/16': 4.6699981689453125,\n",
       " '01/19/16': 5.097994995117188,\n",
       " '01/20/16': 5.161996459960937,\n",
       " '01/21/16': 5.887994384765625,\n",
       " '01/22/16': 5.437994384765625,\n",
       " '01/25/16': 5.13199462890625,\n",
       " '01/26/16': 4.4719970703125,\n",
       " '01/27/16': 4.267996215820313,\n",
       " '02/09/16': 4.239996337890625,\n",
       " '02/10/16': 4.165997314453125,\n",
       " '02/12/16': 4.152001953125,\n",
       " '06/29/16': 4.13800048828125,\n",
       " '06/30/16': 4.569998168945313,\n",
       " '07/01/16': 4.61199951171875,\n",
       " '02/06/18': 5.44599609375,\n",
       " '02/07/18': 6.941998291015625,\n",
       " '02/08/18': 7.3739990234375,\n",
       " '02/09/18': 9.01400146484375,\n",
       " '02/12/18': 9.918002319335937,\n",
       " '02/13/18': 8.512002563476562,\n",
       " '02/14/18': 6.974002075195313,\n",
       " '02/15/18': 7.1580047607421875,\n",
       " '02/16/18': 5.896005249023437,\n",
       " '02/20/18': 4.368011474609375,\n",
       " '02/22/18': 4.194012451171875,\n",
       " '03/02/18': 4.84801025390625,\n",
       " '03/05/18': 4.966009521484375,\n",
       " '03/06/18': 5.36201171875,\n",
       " '03/07/18': 4.892010498046875,\n",
       " '03/08/18': 4.5080078125,\n",
       " '03/26/18': 4.826007080078125,\n",
       " '03/27/18': 5.14600830078125,\n",
       " '03/28/18': 6.434002685546875,\n",
       " '03/29/18': 6.630010986328125,\n",
       " '04/02/18': 6.30201416015625,\n",
       " '04/03/18': 6.656008911132813,\n",
       " '04/04/18': 6.074008178710938,\n",
       " '04/05/18': 6.040005493164062,\n",
       " '04/06/18': 5.844003295898437,\n",
       " '04/09/18': 6.286001586914063,\n",
       " '04/10/18': 5.61400146484375,\n",
       " '04/11/18': 5.7280029296875,\n",
       " '04/12/18': 4.626007080078125,\n",
       " '04/13/18': 4.658001708984375,\n",
       " '10/11/18': 4.487994384765625,\n",
       " '10/12/18': 5.38399658203125,\n",
       " '10/15/18': 5.55799560546875,\n",
       " '10/16/18': 5.56199951171875,\n",
       " '10/17/18': 6.4280029296875,\n",
       " '10/18/18': 5.24200439453125,\n",
       " '10/19/18': 4.6300048828125,\n",
       " '10/22/18': 4.412005615234375,\n",
       " '10/23/18': 4.453997802734375,\n",
       " '10/24/18': 4.45,\n",
       " '10/25/18': 5.544000244140625,\n",
       " '10/26/18': 5.74599609375,\n",
       " '10/29/18': 6.7219970703125,\n",
       " '10/30/18': 8.21199951171875,\n",
       " '10/31/18': 7.93199462890625,\n",
       " '11/01/18': 7.21199951171875,\n",
       " '11/02/18': 6.584002685546875,\n",
       " '11/05/18': 5.97000732421875,\n",
       " '11/06/18': 4.42200927734375,\n",
       " '11/14/18': 4.4300048828125,\n",
       " '11/15/18': 4.465997314453125,\n",
       " '11/16/18': 5.3719970703125,\n",
       " '11/19/18': 5.215997314453125,\n",
       " '11/20/18': 5.193994140625,\n",
       " '11/21/18': 5.567999267578125,\n",
       " '11/23/18': 4.94200439453125,\n",
       " '11/27/18': 4.217999267578125,\n",
       " '12/06/18': 5.2699951171875,\n",
       " '12/07/18': 5.58199462890625,\n",
       " '12/10/18': 6.675994873046875,\n",
       " '12/11/18': 7.417999267578125,\n",
       " '12/12/18': 7.54599609375,\n",
       " '12/13/18': 6.639996337890625,\n",
       " '12/14/18': 5.751995849609375,\n",
       " '12/17/18': 5.137994384765625,\n",
       " '12/18/18': 5.25399169921875,\n",
       " '12/19/18': 5.10999755859375,\n",
       " '12/20/18': 6.14599609375,\n",
       " '12/21/18': 6.865997314453125,\n",
       " '12/24/18': 7.708001708984375,\n",
       " '12/26/18': 7.598001098632812,\n",
       " '12/27/18': 9.147998046875,\n",
       " '12/28/18': 9.003997802734375,\n",
       " '12/31/18': 8.599996948242188,\n",
       " '01/02/19': 7.197994995117187,\n",
       " '01/03/19': 6.93599853515625,\n",
       " '01/04/19': 5.753997802734375,\n",
       " '01/07/19': 5.667999267578125,\n",
       " '01/08/19': 5.529998779296875,\n",
       " '01/09/19': 5.647998046875,\n",
       " '01/10/19': 5.139996337890625,\n",
       " '01/11/19': 4.569998168945313,\n",
       " '05/08/19': 4.32601318359375,\n",
       " '05/09/19': 4.2080078125,\n",
       " '05/10/19': 4.41800537109375,\n",
       " '05/13/19': 5.114007568359375,\n",
       " '05/14/19': 5.72200927734375,\n",
       " '05/15/19': 5.168011474609375,\n",
       " '05/16/19': 5.5380126953125,\n",
       " '05/17/19': 5.52200927734375,\n",
       " '05/20/19': 4.890008544921875}"
      ]
     },
     "execution_count": 116,
     "metadata": {},
     "output_type": "execute_result"
    }
   ],
   "source": [
    "result"
   ]
  },
  {
   "cell_type": "code",
   "execution_count": 117,
   "metadata": {},
   "outputs": [],
   "source": [
    "result = report.optimize(2,\"tr\")"
   ]
  },
  {
   "cell_type": "code",
   "execution_count": 118,
   "metadata": {},
   "outputs": [],
   "source": [
    "def print_optimization():\n",
    "    plt.figure(figsize=(15,10))\n",
    "    date = list(result.keys())\n",
    "    value = list(result.values())\n",
    "    bar = sns.barplot(x=date,y=value)\n",
    "    plt.xticks(rotation=45)"
   ]
  },
  {
   "cell_type": "code",
   "execution_count": 119,
   "metadata": {},
   "outputs": [
    {
     "data": {
      "image/png": "[encoded data removed]",
      "text/plain": [
       "<Figure size 1080x720 with 1 Axes>"
      ]
     },
     "metadata": {
      "needs_background": "light"
     },
     "output_type": "display_data"
    }
   ],
   "source": [
    "print_optimization()"
   ]
  },
  {
   "cell_type": "markdown",
   "metadata": {},
   "source": [
    "# QUESTION #2"
   ]
  },
  {
   "cell_type": "markdown",
   "metadata": {},
   "source": [
    "### Cleanner class"
   ]
  },
  {
   "cell_type": "code",
   "execution_count": 13,
   "metadata": {},
   "outputs": [],
   "source": [
    "import pandas as pd\n",
    "import datetime as dt\n",
    "import numpy as np\n",
    "from collections import Counter\n",
    "\n",
    "class Cleanner():\n",
    "\n",
    "    def __init__(self):\n",
    "        self.data = None\n",
    "        self.clean()\n",
    "\n",
    "    # Delete some NaN dates\n",
    "    def clean(self):\n",
    "        data = pd.read_excel(\"test for trigger dates.xlsx\")\n",
    "        data = data.iloc[:, :3]\n",
    "        data = data.dropna()\n",
    "        #sns.countplot(data[\"date start\"])\n",
    "        self.data = data\n",
    "\n",
    "    # Sort data by month and create a dictionary to store days\n",
    "    def sort_data(self):\n",
    "        data = self.data\n",
    "        result = {}\n",
    "        for value in data[\"date start\"]:\n",
    "            month_str = value.strftime(\"%B\")\n",
    "            if month_str not in result:\n",
    "                result[month_str] = []\n",
    "            else:\n",
    "                result[month_str].append(value.day)\n",
    "                result[month_str] = list(result[month_str])\n",
    "\n",
    "        return result\n",
    "    \n",
    "    # Show and count how many times a day repeat trought the time\n",
    "    def show_data(self):\n",
    "        result = {}\n",
    "        data = self.sort_data()\n",
    "        for value in data.keys():\n",
    "            result[value] = Counter(data[value])\n",
    "        \n",
    "        return result\n",
    "    \n",
    "    \n",
    "        \n",
    "\n",
    "            \n",
    "    \n",
    "    \n",
    " \n",
    "        \n",
    "    \n"
   ]
  },
  {
   "cell_type": "code",
   "execution_count": null,
   "metadata": {},
   "outputs": [],
   "source": []
  },
  {
   "cell_type": "code",
   "execution_count": 14,
   "metadata": {},
   "outputs": [],
   "source": [
    "cln = Cleanner()"
   ]
  },
  {
   "cell_type": "code",
   "execution_count": 15,
   "metadata": {
    "scrolled": true
   },
   "outputs": [],
   "source": [
    "data = cln.show_data()"
   ]
  },
  {
   "cell_type": "code",
   "execution_count": 108,
   "metadata": {},
   "outputs": [],
   "source": [
    "def sort_dict(mydict):\n",
    "    result = {}\n",
    "    for key, value in sorted(mydict.items(), key=lambda item: item[1],reverse=True):\n",
    "        result[key] = value\n",
    "    \n",
    "    return result\n",
    "\n",
    "#Get the higher num of repeated data\n",
    "def optimize(num):\n",
    "    info = cln.show_data()\n",
    "    result = {}\n",
    "    \n",
    "    for row in info.items():\n",
    "        \n",
    "        elem = sort_dict(row[1])\n",
    "        days = list(elem.keys())\n",
    "        values = list(elem.values())\n",
    "        count = {}\n",
    "        for i in range(0,num):\n",
    "          \n",
    "            count[days[i]] = values[i]\n",
    "            #print(values[i])\n",
    "        \n",
    "        result[row[0]] = count\n",
    "        \n",
    "      \n",
    "        \n",
    "    \n",
    "    return result\n",
    "        \n",
    "    \n",
    "            \n",
    "            \n",
    "            \n"
   ]
  },
  {
   "cell_type": "code",
   "execution_count": 109,
   "metadata": {},
   "outputs": [
    {
     "data": {
      "text/plain": [
       "{'January': {20: 5, 28: 4, 12: 3},\n",
       " 'February': {8: 5, 2: 4, 11: 4},\n",
       " 'March': {17: 5, 7: 4, 20: 4},\n",
       " 'May': {1: 6, 19: 4, 17: 3},\n",
       " 'July': {19: 4, 15: 4, 10: 3},\n",
       " 'August': {19: 6, 24: 4, 30: 4},\n",
       " 'September': {16: 7, 3: 3, 22: 3},\n",
       " 'October': {3: 5, 11: 3, 8: 3},\n",
       " 'November': {17: 5, 2: 5, 14: 4},\n",
       " 'April': {2: 5, 13: 4, 29: 4},\n",
       " 'June': {13: 5, 24: 4, 29: 4},\n",
       " 'December': {28: 4, 10: 4, 27: 3}}"
      ]
     },
     "execution_count": 109,
     "metadata": {},
     "output_type": "execute_result"
    }
   ],
   "source": [
    "optimize(3)"
   ]
  },
  {
   "cell_type": "markdown",
   "metadata": {},
   "source": [
    "## VISUALIZE "
   ]
  },
  {
   "cell_type": "code",
   "execution_count": 110,
   "metadata": {},
   "outputs": [],
   "source": [
    "### Count the number of times a date is repeated\n",
    "### Num: num values that most repeated\n",
    "def count_days(num):\n",
    "    result = {}\n",
    "    info = optimize(num)\n",
    "    for val in info:\n",
    "        for elem in info[val]:\n",
    "            if elem in result:\n",
    "                result[elem]+=  info[val][elem]\n",
    "            else:\n",
    "                result[elem] = info[val][elem]\n",
    "        \n",
    "    return sort_dict(result)"
   ]
  },
  {
   "cell_type": "code",
   "execution_count": 111,
   "metadata": {},
   "outputs": [
    {
     "data": {
      "text/plain": [
       "Text(0, 0.5, 'Count')"
      ]
     },
     "execution_count": 111,
     "metadata": {},
     "output_type": "execute_result"
    },
    {
     "data": {
      "image/png": "[encoded data removed]",
      "text/plain": [
       "<Figure size 864x576 with 1 Axes>"
      ]
     },
     "metadata": {
      "needs_background": "light"
     },
     "output_type": "display_data"
    }
   ],
   "source": [
    "result = count_days(4)\n",
    "days = list(result.keys())\n",
    "count = list(result.values())\n",
    "plt.figure(figsize=(12,8))\n",
    "sns.barplot(x=days,y=count)\n",
    "plt.xlabel(\"Days\")\n",
    "plt.ylabel(\"Count\")"
   ]
  },
  {
   "cell_type": "code",
   "execution_count": 112,
   "metadata": {},
   "outputs": [
    {
     "data": {
      "text/plain": [
       "{13: 19,\n",
       " 2: 14,\n",
       " 19: 14,\n",
       " 17: 13,\n",
       " 10: 11,\n",
       " 16: 10,\n",
       " 29: 10,\n",
       " 20: 9,\n",
       " 28: 8,\n",
       " 8: 8,\n",
       " 24: 8,\n",
       " 3: 8,\n",
       " 11: 7,\n",
       " 7: 7,\n",
       " 12: 6,\n",
       " 1: 6,\n",
       " 22: 6,\n",
       " 15: 4,\n",
       " 30: 4,\n",
       " 14: 4,\n",
       " 5: 3,\n",
       " 4: 3,\n",
       " 27: 3,\n",
       " 6: 3}"
      ]
     },
     "execution_count": 112,
     "metadata": {},
     "output_type": "execute_result"
    }
   ],
   "source": [
    "result"
   ]
  },
  {
   "cell_type": "code",
   "execution_count": null,
   "metadata": {},
   "outputs": [],
   "source": []
  },
  {
   "cell_type": "code",
   "execution_count": null,
   "metadata": {},
   "outputs": [],
   "source": []
  }
 ],
 "metadata": {
  "kernelspec": {
   "display_name": "Python 3",
   "language": "python",
   "name": "python3"
  },
  "language_info": {
   "codemirror_mode": {
    "name": "ipython",
    "version": 3
   },
   "file_extension": ".py",
   "mimetype": "text/x-python",
   "name": "python",
   "nbconvert_exporter": "python",
   "pygments_lexer": "ipython3",
   "version": "3.7.3"
  }
 },
 "nbformat": 4,
 "nbformat_minor": 2
}
